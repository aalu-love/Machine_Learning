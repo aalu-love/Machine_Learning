{
 "cells": [
  {
   "cell_type": "code",
   "execution_count": 10,
   "id": "761e52aa",
   "metadata": {
    "scrolled": true
   },
   "outputs": [],
   "source": [
    "# get the libraries\n",
    "import numpy as np\n",
    "import matplotlib.pyplot as plt\n",
    "import pandas as pd\n",
    "from sklearn.model_selection import train_test_split"
   ]
  },
  {
   "cell_type": "code",
   "execution_count": 11,
   "id": "2aeb9f84",
   "metadata": {},
   "outputs": [],
   "source": [
    "#Kaggle Like: \"https://www.kaggle.com/datasets/prathamtripathi/drug-classification\"\n",
    "#Dataset of Drugs\n",
    "dataset = pd.read_csv('C:\\\\Users\\\\hp\\\\Documents\\\\ML\\\\Position_Salaries.csv')"
   ]
  },
  {
   "cell_type": "code",
   "execution_count": 12,
   "id": "9ae9a197",
   "metadata": {
    "scrolled": false
   },
   "outputs": [
    {
     "data": {
      "text/html": [
       "<div>\n",
       "<style scoped>\n",
       "    .dataframe tbody tr th:only-of-type {\n",
       "        vertical-align: middle;\n",
       "    }\n",
       "\n",
       "    .dataframe tbody tr th {\n",
       "        vertical-align: top;\n",
       "    }\n",
       "\n",
       "    .dataframe thead th {\n",
       "        text-align: right;\n",
       "    }\n",
       "</style>\n",
       "<table border=\"1\" class=\"dataframe\">\n",
       "  <thead>\n",
       "    <tr style=\"text-align: right;\">\n",
       "      <th></th>\n",
       "      <th>Position</th>\n",
       "      <th>Level</th>\n",
       "      <th>Salary</th>\n",
       "    </tr>\n",
       "  </thead>\n",
       "  <tbody>\n",
       "    <tr>\n",
       "      <th>0</th>\n",
       "      <td>Business Analyst</td>\n",
       "      <td>1</td>\n",
       "      <td>45000</td>\n",
       "    </tr>\n",
       "    <tr>\n",
       "      <th>1</th>\n",
       "      <td>Junior Consultant</td>\n",
       "      <td>2</td>\n",
       "      <td>50000</td>\n",
       "    </tr>\n",
       "    <tr>\n",
       "      <th>2</th>\n",
       "      <td>Senior Consultant</td>\n",
       "      <td>3</td>\n",
       "      <td>60000</td>\n",
       "    </tr>\n",
       "    <tr>\n",
       "      <th>3</th>\n",
       "      <td>Manager</td>\n",
       "      <td>4</td>\n",
       "      <td>80000</td>\n",
       "    </tr>\n",
       "    <tr>\n",
       "      <th>4</th>\n",
       "      <td>Country Manager</td>\n",
       "      <td>5</td>\n",
       "      <td>110000</td>\n",
       "    </tr>\n",
       "    <tr>\n",
       "      <th>5</th>\n",
       "      <td>Region Manager</td>\n",
       "      <td>6</td>\n",
       "      <td>150000</td>\n",
       "    </tr>\n",
       "    <tr>\n",
       "      <th>6</th>\n",
       "      <td>Partner</td>\n",
       "      <td>7</td>\n",
       "      <td>200000</td>\n",
       "    </tr>\n",
       "    <tr>\n",
       "      <th>7</th>\n",
       "      <td>Senior Partner</td>\n",
       "      <td>8</td>\n",
       "      <td>300000</td>\n",
       "    </tr>\n",
       "    <tr>\n",
       "      <th>8</th>\n",
       "      <td>C-level</td>\n",
       "      <td>9</td>\n",
       "      <td>500000</td>\n",
       "    </tr>\n",
       "    <tr>\n",
       "      <th>9</th>\n",
       "      <td>CEO</td>\n",
       "      <td>10</td>\n",
       "      <td>1000000</td>\n",
       "    </tr>\n",
       "  </tbody>\n",
       "</table>\n",
       "</div>"
      ],
      "text/plain": [
       "            Position  Level   Salary\n",
       "0   Business Analyst      1    45000\n",
       "1  Junior Consultant      2    50000\n",
       "2  Senior Consultant      3    60000\n",
       "3            Manager      4    80000\n",
       "4    Country Manager      5   110000\n",
       "5     Region Manager      6   150000\n",
       "6            Partner      7   200000\n",
       "7     Senior Partner      8   300000\n",
       "8            C-level      9   500000\n",
       "9                CEO     10  1000000"
      ]
     },
     "execution_count": 12,
     "metadata": {},
     "output_type": "execute_result"
    }
   ],
   "source": [
    "dataset"
   ]
  },
  {
   "cell_type": "code",
   "execution_count": 13,
   "id": "447410ec",
   "metadata": {
    "scrolled": true
   },
   "outputs": [],
   "source": [
    "# split the data into featutes and target variable seperately\n",
    "X_l = dataset.iloc[:, 1:-1].values # features set\n",
    "y_p = dataset.iloc[:, -1].values # set of study variable"
   ]
  },
  {
   "cell_type": "code",
   "execution_count": 14,
   "id": "1ec2be17",
   "metadata": {
    "scrolled": true
   },
   "outputs": [
    {
     "name": "stdout",
     "output_type": "stream",
     "text": [
      "[[ 1]\n",
      " [ 2]\n",
      " [ 3]\n",
      " [ 4]\n",
      " [ 5]\n",
      " [ 6]\n",
      " [ 7]\n",
      " [ 8]\n",
      " [ 9]\n",
      " [10]]\n"
     ]
    }
   ],
   "source": [
    "print(X_l)"
   ]
  },
  {
   "cell_type": "code",
   "execution_count": 15,
   "id": "f851fd16",
   "metadata": {
    "scrolled": true
   },
   "outputs": [
    {
     "name": "stdout",
     "output_type": "stream",
     "text": [
      "[  45000   50000   60000   80000  110000  150000  200000  300000  500000\n",
      " 1000000]\n"
     ]
    }
   ],
   "source": [
    "print(y_p)"
   ]
  },
  {
   "cell_type": "code",
   "execution_count": 16,
   "id": "235ae22b",
   "metadata": {
    "scrolled": false
   },
   "outputs": [],
   "source": [
    "y_p = y_p.reshape(-1,1)"
   ]
  },
  {
   "cell_type": "code",
   "execution_count": 17,
   "id": "f91bce25",
   "metadata": {},
   "outputs": [],
   "source": [
    "from sklearn.preprocessing import StandardScaler\n",
    "StdS_X = StandardScaler()\n",
    "StdS_y = StandardScaler()\n",
    "X_l = StdS_X.fit_transform(X_l)\n",
    "y_p = StdS_y.fit_transform(y_p)"
   ]
  },
  {
   "cell_type": "code",
   "execution_count": 18,
   "id": "f08405f0",
   "metadata": {},
   "outputs": [],
   "source": [
    "#Splitting the dataset 7:3\n",
    "X_train, X_test, y_train, y_test = train_test_split(X_l, y_p, test_size=0.3, random_state=1)"
   ]
  },
  {
   "cell_type": "code",
   "execution_count": 19,
   "id": "6c33ac4a",
   "metadata": {},
   "outputs": [
    {
     "name": "stdout",
     "output_type": "stream",
     "text": [
      "Scaled X_l:\n",
      "[[-1.5666989 ]\n",
      " [-1.21854359]\n",
      " [-0.87038828]\n",
      " [-0.52223297]\n",
      " [-0.17407766]\n",
      " [ 0.17407766]\n",
      " [ 0.52223297]\n",
      " [ 0.87038828]\n",
      " [ 1.21854359]\n",
      " [ 1.5666989 ]]\n",
      "Scaled y_p:\n",
      "[[-0.72004253]\n",
      " [-0.70243757]\n",
      " [-0.66722767]\n",
      " [-0.59680786]\n",
      " [-0.49117815]\n",
      " [-0.35033854]\n",
      " [-0.17428902]\n",
      " [ 0.17781001]\n",
      " [ 0.88200808]\n",
      " [ 2.64250325]]\n"
     ]
    }
   ],
   "source": [
    "print(\"Scaled X_l:\")\n",
    "print(X_l)\n",
    "print(\"Scaled y_p:\")\n",
    "print(y_p)"
   ]
  },
  {
   "cell_type": "code",
   "execution_count": 22,
   "id": "f2ac4178",
   "metadata": {
    "scrolled": true
   },
   "outputs": [
    {
     "data": {
      "image/png": "[encoded data removed]",
      "text/plain": [
       "<Figure size 432x288 with 1 Axes>"
      ]
     },
     "metadata": {
      "needs_background": "light"
     },
     "output_type": "display_data"
    }
   ],
   "source": [
    "plt.scatter(X_l, y_p, color = 'red') # plotting the training set\n",
    "plt.title('Scatter Plot') # adding a tittle to our plot\n",
    "plt.xlabel('Levels') # adds a label to the x-axis\n",
    "plt.ylabel('Salary') # adds a label to the y-axis\n",
    "plt.show() # prints"
   ]
  },
  {
   "cell_type": "code",
   "execution_count": 30,
   "id": "7002eef0",
   "metadata": {},
   "outputs": [
    {
     "name": "stderr",
     "output_type": "stream",
     "text": [
      "F:\\Users\\hp\\anaconda3\\lib\\site-packages\\sklearn\\utils\\validation.py:63: DataConversionWarning: A column-vector y was passed when a 1d array was expected. Please change the shape of y to (n_samples, ), for example using ravel().\n",
      "  return f(*args, **kwargs)\n",
      "F:\\Users\\hp\\anaconda3\\lib\\site-packages\\sklearn\\utils\\validation.py:63: DataConversionWarning: A column-vector y was passed when a 1d array was expected. Please change the shape of y to (n_samples, ), for example using ravel().\n",
      "  return f(*args, **kwargs)\n",
      "F:\\Users\\hp\\anaconda3\\lib\\site-packages\\sklearn\\utils\\validation.py:63: DataConversionWarning: A column-vector y was passed when a 1d array was expected. Please change the shape of y to (n_samples, ), for example using ravel().\n",
      "  return f(*args, **kwargs)\n"
     ]
    },
    {
     "data": {
      "text/plain": [
       "SVR(kernel='poly')"
      ]
     },
     "execution_count": 30,
     "metadata": {},
     "output_type": "execute_result"
    }
   ],
   "source": [
    "# import the model\n",
    "from sklearn.svm import SVR\n",
    "# create the model object\n",
    "regressor_r = SVR(kernel = 'rbf')\n",
    "regressor_l = SVR(kernel = 'linear')\n",
    "regressor_p = SVR(kernel = 'poly')\n",
    "# fit the model on the data\n",
    "regressor_r.fit(X_l, y_p)\n",
    "regressor_l.fit(X_l, y_p)\n",
    "regressor_p.fit(X_l, y_p)"
   ]
  },
  {
   "cell_type": "code",
   "execution_count": 31,
   "id": "3941e3ea",
   "metadata": {},
   "outputs": [
    {
     "name": "stdout",
     "output_type": "stream",
     "text": [
      "[-0.27861589]\n",
      "[-0.11477079]\n",
      "[-0.18379101]\n"
     ]
    }
   ],
   "source": [
    "A=regressor_r.predict(StdS_X.transform([[6.5]]))\n",
    "B=regressor_l.predict(StdS_X.transform([[6.5]]))\n",
    "C=regressor_p.predict(StdS_X.transform([[6.5]]))\n",
    "print(A)\n",
    "print(B)\n",
    "print(C)"
   ]
  },
  {
   "cell_type": "code",
   "execution_count": 32,
   "id": "c4add5de",
   "metadata": {},
   "outputs": [
    {
     "name": "stdout",
     "output_type": "stream",
     "text": [
      "[[-0.27861589]]\n",
      "[[-0.11477079]]\n",
      "[[-0.18379101]]\n"
     ]
    }
   ],
   "source": [
    "# Convert A to 2D\n",
    "A = A.reshape(-1,1)\n",
    "B = B.reshape(-1,1)\n",
    "C = C.reshape(-1,1)\n",
    "print(A)\n",
    "print(B)\n",
    "print(C)"
   ]
  },
  {
   "cell_type": "code",
   "execution_count": 33,
   "id": "5e345923",
   "metadata": {},
   "outputs": [
    {
     "name": "stdout",
     "output_type": "stream",
     "text": [
      "[[170370.0204065]]\n",
      "[[170370.0204065]]\n",
      "[[170370.0204065]]\n"
     ]
    }
   ],
   "source": [
    "# Taking the inverse of the scaled value\n",
    "A_pred = StdS_y.inverse_transform(A)\n",
    "print(A_pred)\n",
    "B_pred = StdS_y.inverse_transform(B)\n",
    "print(A_pred)\n",
    "C_pred = StdS_y.inverse_transform(C)\n",
    "print(A_pred)"
   ]
  },
  {
   "cell_type": "code",
   "execution_count": 34,
   "id": "08f48b5a",
   "metadata": {},
   "outputs": [
    {
     "name": "stdout",
     "output_type": "stream",
     "text": [
      "[[170370.0204065]]\n",
      "[[216903.83371158]]\n",
      "[[197301.33007096]]\n"
     ]
    }
   ],
   "source": [
    "A_pred_A = StdS_y.inverse_transform(regressor_r.predict(StdS_X.transform([[6.5]])).reshape(-1,1))\n",
    "print(A_pred_A)\n",
    "B_pred_B = StdS_y.inverse_transform(regressor_l.predict(StdS_X.transform([[6.5]])).reshape(-1,1))\n",
    "print(B_pred_B)\n",
    "C_pred_C = StdS_y.inverse_transform(regressor_p.predict(StdS_X.transform([[6.5]])).reshape(-1,1))\n",
    "print(C_pred_C)"
   ]
  },
  {
   "cell_type": "code",
   "execution_count": 35,
   "id": "a6a0c862",
   "metadata": {},
   "outputs": [
    {
     "data": {
      "image/png": "[encoded data removed]",
      "text/plain": [
       "<Figure size 432x288 with 1 Axes>"
      ]
     },
     "metadata": {
      "needs_background": "light"
     },
     "output_type": "display_data"
    }
   ],
   "source": [
    "# inverse the transformation to go back to the initial scale\n",
    "plt.scatter(StdS_X.inverse_transform(X_l), StdS_y.inverse_transform(y_p), color = 'orange')\n",
    "plt.plot(StdS_X.inverse_transform(X_l), StdS_y.inverse_transform(regressor_r.predict(X_l).reshape(-1,1)), color = 'red')\n",
    "plt.plot(StdS_X.inverse_transform(X_l), StdS_y.inverse_transform(regressor_l.predict(X_l).reshape(-1,1)), color = 'blue')\n",
    "plt.plot(StdS_X.inverse_transform(X_l), StdS_y.inverse_transform(regressor_p.predict(X_l).reshape(-1,1)), color = 'green')\n",
    "# add the title to the plot\n",
    "plt.title('Support Vector Regression Model')\n",
    "# label x axis\n",
    "plt.xlabel('Position')\n",
    "# label y axis\n",
    "plt.ylabel('Salary Level')\n",
    "# print the plot\n",
    "plt.show()"
   ]
  },
  {
   "cell_type": "code",
   "execution_count": null,
   "id": "11386c56",
   "metadata": {},
   "outputs": [],
   "source": []
  },
  {
   "cell_type": "code",
   "execution_count": null,
   "id": "f8e5c384",
   "metadata": {},
   "outputs": [],
   "source": []
  }
 ],
 "metadata": {
  "kernelspec": {
   "display_name": "Python 3 (ipykernel)",
   "language": "python",
   "name": "python3"
  },
  "language_info": {
   "codemirror_mode": {
    "name": "ipython",
    "version": 3
   },
   "file_extension": ".py",
   "mimetype": "text/x-python",
   "name": "python",
   "nbconvert_exporter": "python",
   "pygments_lexer": "ipython3",
   "version": "3.9.7"
  }
 },
 "nbformat": 4,
 "nbformat_minor": 5
}
