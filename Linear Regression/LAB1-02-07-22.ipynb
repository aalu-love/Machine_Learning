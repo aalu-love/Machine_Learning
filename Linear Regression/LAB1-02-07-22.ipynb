{
 "cells": [
  {
   "cell_type": "code",
   "execution_count": 1,
   "id": "4f4cd377",
   "metadata": {},
   "outputs": [
    {
     "name": "stdout",
     "output_type": "stream",
     "text": [
      "Lab1 02/07/22\n",
      "SANJU BODRA 21MCA1017\n",
      "Your submission should include\n",
      "Objective of Linear Regression\n",
      "Concept\n",
      "Implementation From scratch using simulated data and also using scikit-learn\n",
      "Output should include graph plot\n"
     ]
    }
   ],
   "source": [
    "print(\"Lab1 02/07/22\")\n",
    "print(\"SANJU BODRA 21MCA1017\")\n",
    "print(\"Your submission should include\\nObjective of Linear Regression\\nConcept\\nImplementation From scratch using simulated data and also using scikit-learn\\nOutput should include graph plot\")"
   ]
  },
  {
   "cell_type": "code",
   "execution_count": 2,
   "id": "3e1fb4ca",
   "metadata": {},
   "outputs": [],
   "source": [
    "import matplotlib.pyplot as plt\n",
    "import numpy as np\n",
    "import pandas as pd\n",
    "import seaborn as sns\n",
    "from sklearn.linear_model import LinearRegression\n",
    "from sklearn.model_selection import train_test_split"
   ]
  },
  {
   "cell_type": "code",
   "execution_count": 3,
   "id": "b5d576b3",
   "metadata": {},
   "outputs": [],
   "source": [
    "# Simple linear regression is used to model the relationship between two continuous variables.\n",
    "# Often, the objective is to predict the value of an output variable (or response) based on the value of an input (or predictor) variable."
   ]
  },
  {
   "cell_type": "markdown",
   "id": "d3f46bae",
   "metadata": {},
   "source": [
    "# Simulated Data"
   ]
  },
  {
   "cell_type": "code",
   "execution_count": 4,
   "id": "fb48787c",
   "metadata": {},
   "outputs": [],
   "source": [
    "np.random.seed(0)\n",
    "X = 2.5 * np.random.randn(100) +1.5\n",
    "res = 0.5 * np.random.randn(100)\n",
    "y = 2 + 0.3 * X + res"
   ]
  },
  {
   "cell_type": "code",
   "execution_count": 5,
   "id": "4c0a726f",
   "metadata": {},
   "outputs": [],
   "source": [
    "df = pd.DataFrame({\"X\":X,\n",
    "                  \"Y\":y})"
   ]
  },
  {
   "cell_type": "code",
   "execution_count": 6,
   "id": "8d6616a5",
   "metadata": {},
   "outputs": [
    {
     "name": "stdout",
     "output_type": "stream",
     "text": [
      "alpha = 2.0\n",
      "beta = 0.32\n"
     ]
    }
   ],
   "source": [
    "xmean = np.mean(df[\"X\"])\n",
    "ymean = np.mean(df[\"Y\"])\n",
    "\n",
    "df['XYCov'] = (df[\"X\"] - xmean) * (df[\"Y\"] - ymean)\n",
    "df['XVar'] = (df[\"X\"] - xmean)**2\n",
    "\n",
    "beta = df['XYCov'].sum() / df['XVar'].sum()\n",
    "alpha = ymean - (beta * xmean)\n",
    "print(f'alpha = {np.round(alpha,2)}')\n",
    "print(f'beta = {np.round(beta,2)}')\n"
   ]
  },
  {
   "cell_type": "code",
   "execution_count": 7,
   "id": "edbb650c",
   "metadata": {},
   "outputs": [],
   "source": [
    "ypred = alpha + beta*X"
   ]
  },
  {
   "cell_type": "code",
   "execution_count": 8,
   "id": "f17e0d67",
   "metadata": {
    "scrolled": true
   },
   "outputs": [
    {
     "data": {
      "image/png": "[encoded data removed]",
      "text/plain": [
       "<Figure size 864x432 with 1 Axes>"
      ]
     },
     "metadata": {
      "needs_background": "light"
     },
     "output_type": "display_data"
    },
    {
     "name": "stdout",
     "output_type": "stream",
     "text": [
      "(100,)\n",
      "(100,)\n",
      "(100,)\n"
     ]
    }
   ],
   "source": [
    "plt.figure(figsize=(12, 6))\n",
    "plt.plot(X, ypred)     # regression line\n",
    "plt.plot(X, y, 'ro')   # scatter plot showing actual data\n",
    "plt.title('Actual vs Predicted')\n",
    "plt.xlabel('X')\n",
    "plt.ylabel('y')\n",
    "\n",
    "plt.show()\n",
    "\n",
    "print(X.shape)\n",
    "print(ypred.shape)\n",
    "print(y.shape)"
   ]
  },
  {
   "cell_type": "markdown",
   "id": "145c5640",
   "metadata": {},
   "source": [
    "# Using Scikit-learn"
   ]
  },
  {
   "cell_type": "code",
   "execution_count": 9,
   "id": "cd7f1f31",
   "metadata": {},
   "outputs": [
    {
     "data": {
      "text/html": [
       "<div>\n",
       "<style scoped>\n",
       "    .dataframe tbody tr th:only-of-type {\n",
       "        vertical-align: middle;\n",
       "    }\n",
       "\n",
       "    .dataframe tbody tr th {\n",
       "        vertical-align: top;\n",
       "    }\n",
       "\n",
       "    .dataframe thead th {\n",
       "        text-align: right;\n",
       "    }\n",
       "</style>\n",
       "<table border=\"1\" class=\"dataframe\">\n",
       "  <thead>\n",
       "    <tr style=\"text-align: right;\">\n",
       "      <th></th>\n",
       "      <th>X</th>\n",
       "      <th>Y</th>\n",
       "      <th>XYCov</th>\n",
       "      <th>XVar</th>\n",
       "    </tr>\n",
       "  </thead>\n",
       "  <tbody>\n",
       "    <tr>\n",
       "      <th>0</th>\n",
       "      <td>5.910131</td>\n",
       "      <td>4.714615</td>\n",
       "      <td>9.282815</td>\n",
       "      <td>18.152805</td>\n",
       "    </tr>\n",
       "    <tr>\n",
       "      <th>1</th>\n",
       "      <td>2.500393</td>\n",
       "      <td>2.076238</td>\n",
       "      <td>-0.391082</td>\n",
       "      <td>0.723985</td>\n",
       "    </tr>\n",
       "    <tr>\n",
       "      <th>2</th>\n",
       "      <td>3.946845</td>\n",
       "      <td>2.548811</td>\n",
       "      <td>0.029747</td>\n",
       "      <td>5.277702</td>\n",
       "    </tr>\n",
       "    <tr>\n",
       "      <th>3</th>\n",
       "      <td>7.102233</td>\n",
       "      <td>4.615368</td>\n",
       "      <td>11.338948</td>\n",
       "      <td>29.732079</td>\n",
       "    </tr>\n",
       "    <tr>\n",
       "      <th>4</th>\n",
       "      <td>6.168895</td>\n",
       "      <td>3.264107</td>\n",
       "      <td>3.291209</td>\n",
       "      <td>20.424750</td>\n",
       "    </tr>\n",
       "  </tbody>\n",
       "</table>\n",
       "</div>"
      ],
      "text/plain": [
       "          X         Y      XYCov       XVar\n",
       "0  5.910131  4.714615   9.282815  18.152805\n",
       "1  2.500393  2.076238  -0.391082   0.723985\n",
       "2  3.946845  2.548811   0.029747   5.277702\n",
       "3  7.102233  4.615368  11.338948  29.732079\n",
       "4  6.168895  3.264107   3.291209  20.424750"
      ]
     },
     "execution_count": 9,
     "metadata": {},
     "output_type": "execute_result"
    }
   ],
   "source": [
    "df.head()"
   ]
  },
  {
   "cell_type": "code",
   "execution_count": 10,
   "id": "3ea0ffb8",
   "metadata": {},
   "outputs": [
    {
     "data": {
      "text/plain": [
       "(100, 4)"
      ]
     },
     "execution_count": 10,
     "metadata": {},
     "output_type": "execute_result"
    }
   ],
   "source": [
    "df.shape"
   ]
  },
  {
   "cell_type": "code",
   "execution_count": 11,
   "id": "488a5dfa",
   "metadata": {},
   "outputs": [
    {
     "data": {
      "image/png": "[encoded data removed]",
      "text/plain": [
       "<Figure size 432x288 with 1 Axes>"
      ]
     },
     "metadata": {
      "needs_background": "light"
     },
     "output_type": "display_data"
    }
   ],
   "source": [
    "df.plot.scatter(x='X', y='Y', title='Scatterplot of X and Y percentages');"
   ]
  },
  {
   "cell_type": "code",
   "execution_count": 12,
   "id": "30e7b2f2",
   "metadata": {},
   "outputs": [
    {
     "data": {
      "text/html": [
       "<div>\n",
       "<style scoped>\n",
       "    .dataframe tbody tr th:only-of-type {\n",
       "        vertical-align: middle;\n",
       "    }\n",
       "\n",
       "    .dataframe tbody tr th {\n",
       "        vertical-align: top;\n",
       "    }\n",
       "\n",
       "    .dataframe thead th {\n",
       "        text-align: right;\n",
       "    }\n",
       "</style>\n",
       "<table border=\"1\" class=\"dataframe\">\n",
       "  <thead>\n",
       "    <tr style=\"text-align: right;\">\n",
       "      <th></th>\n",
       "      <th>X</th>\n",
       "      <th>Y</th>\n",
       "      <th>XYCov</th>\n",
       "      <th>XVar</th>\n",
       "    </tr>\n",
       "  </thead>\n",
       "  <tbody>\n",
       "    <tr>\n",
       "      <th>X</th>\n",
       "      <td>1.000000</td>\n",
       "      <td>0.845409</td>\n",
       "      <td>-0.044775</td>\n",
       "      <td>0.004061</td>\n",
       "    </tr>\n",
       "    <tr>\n",
       "      <th>Y</th>\n",
       "      <td>0.845409</td>\n",
       "      <td>1.000000</td>\n",
       "      <td>-0.073176</td>\n",
       "      <td>-0.041422</td>\n",
       "    </tr>\n",
       "    <tr>\n",
       "      <th>XYCov</th>\n",
       "      <td>-0.044775</td>\n",
       "      <td>-0.073176</td>\n",
       "      <td>1.000000</td>\n",
       "      <td>0.906258</td>\n",
       "    </tr>\n",
       "    <tr>\n",
       "      <th>XVar</th>\n",
       "      <td>0.004061</td>\n",
       "      <td>-0.041422</td>\n",
       "      <td>0.906258</td>\n",
       "      <td>1.000000</td>\n",
       "    </tr>\n",
       "  </tbody>\n",
       "</table>\n",
       "</div>"
      ],
      "text/plain": [
       "              X         Y     XYCov      XVar\n",
       "X      1.000000  0.845409 -0.044775  0.004061\n",
       "Y      0.845409  1.000000 -0.073176 -0.041422\n",
       "XYCov -0.044775 -0.073176  1.000000  0.906258\n",
       "XVar   0.004061 -0.041422  0.906258  1.000000"
      ]
     },
     "execution_count": 12,
     "metadata": {},
     "output_type": "execute_result"
    }
   ],
   "source": [
    "df.corr()"
   ]
  },
  {
   "cell_type": "code",
   "execution_count": 13,
   "id": "3a421a5f",
   "metadata": {},
   "outputs": [
    {
     "data": {
      "text/html": [
       "<div>\n",
       "<style scoped>\n",
       "    .dataframe tbody tr th:only-of-type {\n",
       "        vertical-align: middle;\n",
       "    }\n",
       "\n",
       "    .dataframe tbody tr th {\n",
       "        vertical-align: top;\n",
       "    }\n",
       "\n",
       "    .dataframe thead th {\n",
       "        text-align: right;\n",
       "    }\n",
       "</style>\n",
       "<table border=\"1\" class=\"dataframe\">\n",
       "  <thead>\n",
       "    <tr style=\"text-align: right;\">\n",
       "      <th></th>\n",
       "      <th>X</th>\n",
       "      <th>Y</th>\n",
       "      <th>XYCov</th>\n",
       "      <th>XVar</th>\n",
       "    </tr>\n",
       "  </thead>\n",
       "  <tbody>\n",
       "    <tr>\n",
       "      <th>count</th>\n",
       "      <td>100.000000</td>\n",
       "      <td>100.000000</td>\n",
       "      <td>100.000000</td>\n",
       "      <td>100.000000</td>\n",
       "    </tr>\n",
       "    <tr>\n",
       "      <th>mean</th>\n",
       "      <td>1.649520</td>\n",
       "      <td>2.535862</td>\n",
       "      <td>2.050317</td>\n",
       "      <td>6.348916</td>\n",
       "    </tr>\n",
       "    <tr>\n",
       "      <th>std</th>\n",
       "      <td>2.532399</td>\n",
       "      <td>0.967357</td>\n",
       "      <td>2.871541</td>\n",
       "      <td>8.125685</td>\n",
       "    </tr>\n",
       "    <tr>\n",
       "      <th>min</th>\n",
       "      <td>-4.882475</td>\n",
       "      <td>0.186116</td>\n",
       "      <td>-1.029969</td>\n",
       "      <td>0.000083</td>\n",
       "    </tr>\n",
       "    <tr>\n",
       "      <th>25%</th>\n",
       "      <td>-0.109642</td>\n",
       "      <td>1.937061</td>\n",
       "      <td>0.029670</td>\n",
       "      <td>0.659878</td>\n",
       "    </tr>\n",
       "    <tr>\n",
       "      <th>50%</th>\n",
       "      <td>1.735240</td>\n",
       "      <td>2.552690</td>\n",
       "      <td>0.643447</td>\n",
       "      <td>3.042312</td>\n",
       "    </tr>\n",
       "    <tr>\n",
       "      <th>75%</th>\n",
       "      <td>3.342693</td>\n",
       "      <td>3.250560</td>\n",
       "      <td>3.453994</td>\n",
       "      <td>8.766579</td>\n",
       "    </tr>\n",
       "    <tr>\n",
       "      <th>max</th>\n",
       "      <td>7.174387</td>\n",
       "      <td>4.714615</td>\n",
       "      <td>11.838535</td>\n",
       "      <td>42.666953</td>\n",
       "    </tr>\n",
       "  </tbody>\n",
       "</table>\n",
       "</div>"
      ],
      "text/plain": [
       "                X           Y       XYCov        XVar\n",
       "count  100.000000  100.000000  100.000000  100.000000\n",
       "mean     1.649520    2.535862    2.050317    6.348916\n",
       "std      2.532399    0.967357    2.871541    8.125685\n",
       "min     -4.882475    0.186116   -1.029969    0.000083\n",
       "25%     -0.109642    1.937061    0.029670    0.659878\n",
       "50%      1.735240    2.552690    0.643447    3.042312\n",
       "75%      3.342693    3.250560    3.453994    8.766579\n",
       "max      7.174387    4.714615   11.838535   42.666953"
      ]
     },
     "execution_count": 13,
     "metadata": {},
     "output_type": "execute_result"
    }
   ],
   "source": [
    "df.describe()"
   ]
  },
  {
   "cell_type": "code",
   "execution_count": 14,
   "id": "15da3248",
   "metadata": {
    "scrolled": true
   },
   "outputs": [
    {
     "name": "stdout",
     "output_type": "stream",
     "text": [
      "(100, 1)\n",
      "[[ 5.91013086]\n",
      " [ 2.50039302]\n",
      " [ 3.94684496]\n",
      " [ 7.102233  ]\n",
      " [ 6.16889498]\n",
      " [-0.9431947 ]\n",
      " [ 3.87522104]\n",
      " [ 1.12160698]\n",
      " [ 1.24195287]\n",
      " [ 2.52649625]\n",
      " [ 1.86010893]\n",
      " [ 5.13568377]\n",
      " [ 3.40259431]\n",
      " [ 1.80418754]\n",
      " [ 2.60965808]\n",
      " [ 2.33418582]\n",
      " [ 5.23519768]\n",
      " [ 0.98710434]\n",
      " [ 2.28266925]\n",
      " [-0.63523935]\n",
      " [-4.88247454]\n",
      " [ 3.13404649]\n",
      " [ 3.6610905 ]\n",
      " [-0.35541255]\n",
      " [ 7.17438656]\n",
      " [-2.13591419]\n",
      " [ 1.61439629]\n",
      " [ 1.03204037]\n",
      " [ 5.33194804]\n",
      " [ 5.17339692]\n",
      " [ 1.88736856]\n",
      " [ 2.4454063 ]\n",
      " [-0.71946437]\n",
      " [-3.45199117]\n",
      " [ 0.63021963]\n",
      " [ 1.89087242]\n",
      " [ 4.5757267 ]\n",
      " [ 4.50594962]\n",
      " [ 0.53168296]\n",
      " [ 0.74424312]\n",
      " [-1.12138241]\n",
      " [-2.05004484]\n",
      " [-2.76567548]\n",
      " [ 6.37693849]\n",
      " [ 0.22586955]\n",
      " [ 0.40481425]\n",
      " [-1.6319884 ]\n",
      " [ 3.44372589]\n",
      " [-2.53474462]\n",
      " [ 0.9681493 ]\n",
      " [-0.7386664 ]\n",
      " [ 2.46725624]\n",
      " [ 0.22298716]\n",
      " [-1.45158046]\n",
      " [ 1.42954443]\n",
      " [ 2.57082968]\n",
      " [ 1.66629306]\n",
      " [ 2.25617974]\n",
      " [-0.08580523]\n",
      " [ 0.59314709]\n",
      " [-0.18115112]\n",
      " [ 0.6011171 ]\n",
      " [-0.53286571]\n",
      " [-2.81570651]\n",
      " [ 1.94356536]\n",
      " [ 0.49554766]\n",
      " [-2.57549587]\n",
      " [ 2.65695564]\n",
      " [-0.76824591]\n",
      " [ 1.62986349]\n",
      " [ 3.32272641]\n",
      " [ 1.82245728]\n",
      " [ 4.34850171]\n",
      " [-1.58706455]\n",
      " [ 2.5058541 ]\n",
      " [-0.21202523]\n",
      " [-0.67699287]\n",
      " [ 0.05287584]\n",
      " [ 0.72111867]\n",
      " [ 1.64041336]\n",
      " [-1.4128746 ]\n",
      " [ 3.75206622]\n",
      " [ 2.6641561 ]\n",
      " [-2.34060922]\n",
      " [ 5.22063048]\n",
      " [ 6.23972294]\n",
      " [ 4.44694893]\n",
      " [ 1.05018791]\n",
      " [-1.17688155]\n",
      " [ 4.13612932]\n",
      " [ 0.49205763]\n",
      " [ 4.55611268]\n",
      " [ 2.02068745]\n",
      " [ 3.94159759]\n",
      " [ 2.39091599]\n",
      " [ 3.26643292]\n",
      " [ 1.52625005]\n",
      " [ 5.96467623]\n",
      " [ 1.81728023]\n",
      " [ 2.50497341]]\n"
     ]
    }
   ],
   "source": [
    "X = df['X'].values.reshape(-1,1)\n",
    "y = df['Y'].values.reshape(-1,1)\n",
    "print(X.shape)\n",
    "print(X)"
   ]
  },
  {
   "cell_type": "code",
   "execution_count": 15,
   "id": "3a7c2fd4",
   "metadata": {},
   "outputs": [],
   "source": [
    "SEED = 42\n",
    "X_train, X_test, y_train, y_test = train_test_split(X, y, test_size = 0.2, random_state = SEED)"
   ]
  },
  {
   "cell_type": "code",
   "execution_count": 16,
   "id": "2f37c419",
   "metadata": {},
   "outputs": [
    {
     "name": "stdout",
     "output_type": "stream",
     "text": [
      "[[ 2.57082968]\n",
      " [-1.17688155]\n",
      " [ 1.61439629]\n",
      " [-2.76567548]\n",
      " [ 1.62986349]\n",
      " [ 2.33418582]\n",
      " [-1.12138241]\n",
      " [ 1.52625005]\n",
      " [ 2.52649625]\n",
      " [ 4.34850171]\n",
      " [ 5.13568377]\n",
      " [ 3.44372589]\n",
      " [ 6.23972294]\n",
      " [ 5.33194804]\n",
      " [ 3.94159759]\n",
      " [-0.9431947 ]\n",
      " [-2.57549587]\n",
      " [ 0.49554766]\n",
      " [ 1.89087242]\n",
      " [ 5.23519768]\n",
      " [ 0.9681493 ]\n",
      " [ 0.63021963]\n",
      " [ 1.12160698]\n",
      " [ 3.26643292]\n",
      " [ 1.03204037]\n",
      " [-0.63523935]\n",
      " [ 3.75206622]\n",
      " [-2.13591419]\n",
      " [-0.53286571]\n",
      " [ 1.80418754]\n",
      " [ 7.17438656]\n",
      " [ 7.102233  ]\n",
      " [ 0.98710434]\n",
      " [ 0.53168296]\n",
      " [ 1.24195287]\n",
      " [ 0.72111867]\n",
      " [ 3.87522104]\n",
      " [ 1.94356536]\n",
      " [ 4.5757267 ]\n",
      " [ 4.13612932]\n",
      " [ 1.66629306]\n",
      " [ 2.50497341]\n",
      " [ 1.42954443]\n",
      " [ 6.37693849]\n",
      " [-0.7386664 ]\n",
      " [ 2.65695564]\n",
      " [-1.6319884 ]\n",
      " [-0.76824591]\n",
      " [ 0.6011171 ]\n",
      " [ 5.96467623]\n",
      " [ 1.64041336]\n",
      " [-2.05004484]\n",
      " [-0.08580523]\n",
      " [-2.53474462]\n",
      " [ 1.81728023]\n",
      " [ 2.25617974]\n",
      " [-0.21202523]\n",
      " [-0.71946437]\n",
      " [ 2.39091599]\n",
      " [ 0.59314709]\n",
      " [-2.81570651]\n",
      " [ 5.22063048]\n",
      " [ 4.50594962]\n",
      " [ 5.17339692]\n",
      " [ 2.50039302]\n",
      " [ 0.22298716]\n",
      " [ 3.13404649]\n",
      " [ 3.94684496]\n",
      " [-0.35541255]\n",
      " [ 1.05018791]\n",
      " [ 4.55611268]\n",
      " [ 2.5058541 ]\n",
      " [ 4.44694893]\n",
      " [ 2.6641561 ]\n",
      " [-4.88247454]\n",
      " [-0.18115112]\n",
      " [ 1.82245728]\n",
      " [ 2.60965808]\n",
      " [ 2.02068745]\n",
      " [ 2.46725624]]\n",
      "[[2.43950976]\n",
      " [1.27715404]\n",
      " [2.26674211]\n",
      " [1.2536341 ]\n",
      " [2.64743035]\n",
      " [3.10148394]\n",
      " [0.91795648]\n",
      " [2.84377029]\n",
      " [3.49820627]\n",
      " [3.73296582]\n",
      " [3.99372746]\n",
      " [3.59162591]\n",
      " [3.07088805]\n",
      " [3.93573179]\n",
      " [2.59843253]\n",
      " [2.68885218]\n",
      " [0.72724357]\n",
      " [2.57084579]\n",
      " [2.90547837]\n",
      " [4.04418529]\n",
      " [2.05965249]\n",
      " [1.87114285]\n",
      " [1.96275469]\n",
      " [2.89415671]\n",
      " [3.23424398]\n",
      " [2.27053153]\n",
      " [2.43814422]\n",
      " [1.28440847]\n",
      " [2.31485069]\n",
      " [3.49628874]\n",
      " [3.80503204]\n",
      " [4.61536825]\n",
      " [2.21862626]\n",
      " [2.35750824]\n",
      " [3.33405687]\n",
      " [1.98856935]\n",
      " [2.95575682]\n",
      " [1.97035185]\n",
      " [3.66101342]\n",
      " [4.01234609]\n",
      " [3.06320588]\n",
      " [3.419756  ]\n",
      " [2.37963707]\n",
      " [4.23059726]\n",
      " [1.74427928]\n",
      " [2.02470114]\n",
      " [1.05399237]\n",
      " [2.36354112]\n",
      " [3.14510116]\n",
      " [4.20115495]\n",
      " [2.50086359]\n",
      " [1.6046824 ]\n",
      " [1.4005241 ]\n",
      " [0.58162291]\n",
      " [3.62680204]\n",
      " [2.13688817]\n",
      " [2.27718969]\n",
      " [1.44699436]\n",
      " [2.97891313]\n",
      " [1.9590341 ]\n",
      " [1.19906367]\n",
      " [3.87880487]\n",
      " [3.24763551]\n",
      " [3.75575   ]\n",
      " [2.07623838]\n",
      " [1.69451874]\n",
      " [2.39051355]\n",
      " [2.54881099]\n",
      " [2.55656918]\n",
      " [2.34113891]\n",
      " [3.50035924]\n",
      " [2.23463481]\n",
      " [2.78189301]\n",
      " [2.47743763]\n",
      " [0.7234704 ]\n",
      " [1.69663844]\n",
      " [2.70610101]\n",
      " [2.64889574]\n",
      " [2.58656482]\n",
      " [3.59684823]]\n"
     ]
    }
   ],
   "source": [
    "print(X_train)\n",
    "print(y_train)"
   ]
  },
  {
   "cell_type": "code",
   "execution_count": 17,
   "id": "1d5f8803",
   "metadata": {},
   "outputs": [],
   "source": [
    "regressor = LinearRegression()"
   ]
  },
  {
   "cell_type": "code",
   "execution_count": 18,
   "id": "75fbb0dc",
   "metadata": {},
   "outputs": [
    {
     "data": {
      "text/plain": [
       "LinearRegression()"
      ]
     },
     "execution_count": 18,
     "metadata": {},
     "output_type": "execute_result"
    }
   ],
   "source": [
    "regressor.fit(X_train, y_train)"
   ]
  },
  {
   "cell_type": "code",
   "execution_count": 19,
   "id": "ba3c981e",
   "metadata": {},
   "outputs": [
    {
     "name": "stdout",
     "output_type": "stream",
     "text": [
      "[2.04460143] [[0.30811288]]\n"
     ]
    }
   ],
   "source": [
    "print(regressor.intercept_,regressor.coef_)"
   ]
  },
  {
   "cell_type": "code",
   "execution_count": 20,
   "id": "4e1c7267",
   "metadata": {},
   "outputs": [
    {
     "name": "stdout",
     "output_type": "stream",
     "text": [
      "[[4.97167377]]\n",
      "[[4.97167377]]\n"
     ]
    }
   ],
   "source": [
    "def calc(slope, intercept, tv):\n",
    "    return slope*tv+intercept\n",
    "\n",
    "score = calc(regressor.coef_, regressor.intercept_, 9.5)\n",
    "print(score)\n",
    "\n",
    "score = regressor.predict([[9.5]])\n",
    "print(score)"
   ]
  },
  {
   "cell_type": "code",
   "execution_count": 21,
   "id": "f641f467",
   "metadata": {},
   "outputs": [
    {
     "name": "stdout",
     "output_type": "stream",
     "text": [
      "      Actual  Predicted\n",
      "0   0.186116   1.323430\n",
      "1   1.151307   1.597351\n",
      "2   3.457247   3.068376\n",
      "3   2.593684   2.169330\n",
      "4   3.259333   2.114195\n",
      "5   1.676742   2.273912\n",
      "6   3.247446   3.172631\n",
      "7   1.399141   1.609277\n",
      "8   3.491812   2.617725\n",
      "9   4.714615   3.865589\n",
      "10  2.991840   2.747921\n",
      "11  2.181253   2.626124\n",
      "12  1.198368   1.555606\n",
      "13  0.980318   0.980998\n",
      "14  1.501189   2.196211\n",
      "15  3.264107   3.945317\n",
      "16  1.395197   1.836011\n",
      "17  1.671088   2.060893\n",
      "18  2.590165   3.092985\n",
      "19  3.003246   2.798063\n"
     ]
    }
   ],
   "source": [
    "y_pred = regressor.predict(X_test)\n",
    "df_preds = pd.DataFrame({'Actual': y_test.squeeze(), 'Predicted': y_pred.squeeze()})\n",
    "print(df_preds)"
   ]
  },
  {
   "cell_type": "code",
   "execution_count": 22,
   "id": "11babece",
   "metadata": {},
   "outputs": [
    {
     "data": {
      "image/png": "[encoded data removed]",
      "text/plain": [
       "<Figure size 864x432 with 1 Axes>"
      ]
     },
     "metadata": {
      "needs_background": "light"
     },
     "output_type": "display_data"
    },
    {
     "name": "stdout",
     "output_type": "stream",
     "text": [
      "(100, 1)\n",
      "(100,)\n",
      "(100, 1)\n"
     ]
    }
   ],
   "source": [
    "plt.figure(figsize=(12, 6))\n",
    "plt.plot(X, ypred)     # regression line\n",
    "plt.plot(X, y, 'ro')   # scatter plot showing actual data\n",
    "plt.title('Actual vs Predicted')\n",
    "plt.xlabel('X')\n",
    "plt.ylabel('y')\n",
    "\n",
    "plt.show()\n",
    "\n",
    "print(X.shape)\n",
    "print(ypred.shape)\n",
    "print(y.shape)"
   ]
  },
  {
   "cell_type": "markdown",
   "id": "03859a2f",
   "metadata": {},
   "source": [
    "# Linear Regression on Company_Data.csv"
   ]
  },
  {
   "cell_type": "code",
   "execution_count": 23,
   "id": "e5fb850e",
   "metadata": {},
   "outputs": [
    {
     "data": {
      "text/html": [
       "<div>\n",
       "<style scoped>\n",
       "    .dataframe tbody tr th:only-of-type {\n",
       "        vertical-align: middle;\n",
       "    }\n",
       "\n",
       "    .dataframe tbody tr th {\n",
       "        vertical-align: top;\n",
       "    }\n",
       "\n",
       "    .dataframe thead th {\n",
       "        text-align: right;\n",
       "    }\n",
       "</style>\n",
       "<table border=\"1\" class=\"dataframe\">\n",
       "  <thead>\n",
       "    <tr style=\"text-align: right;\">\n",
       "      <th></th>\n",
       "      <th>TV</th>\n",
       "      <th>Radio</th>\n",
       "      <th>Newspaper</th>\n",
       "      <th>Sales</th>\n",
       "    </tr>\n",
       "  </thead>\n",
       "  <tbody>\n",
       "    <tr>\n",
       "      <th>0</th>\n",
       "      <td>230.1</td>\n",
       "      <td>37.8</td>\n",
       "      <td>69.2</td>\n",
       "      <td>22.1</td>\n",
       "    </tr>\n",
       "    <tr>\n",
       "      <th>1</th>\n",
       "      <td>44.5</td>\n",
       "      <td>39.3</td>\n",
       "      <td>45.1</td>\n",
       "      <td>10.4</td>\n",
       "    </tr>\n",
       "    <tr>\n",
       "      <th>2</th>\n",
       "      <td>17.2</td>\n",
       "      <td>45.9</td>\n",
       "      <td>69.3</td>\n",
       "      <td>12.0</td>\n",
       "    </tr>\n",
       "    <tr>\n",
       "      <th>3</th>\n",
       "      <td>151.5</td>\n",
       "      <td>41.3</td>\n",
       "      <td>58.5</td>\n",
       "      <td>16.5</td>\n",
       "    </tr>\n",
       "    <tr>\n",
       "      <th>4</th>\n",
       "      <td>180.8</td>\n",
       "      <td>10.8</td>\n",
       "      <td>58.4</td>\n",
       "      <td>17.9</td>\n",
       "    </tr>\n",
       "    <tr>\n",
       "      <th>...</th>\n",
       "      <td>...</td>\n",
       "      <td>...</td>\n",
       "      <td>...</td>\n",
       "      <td>...</td>\n",
       "    </tr>\n",
       "    <tr>\n",
       "      <th>195</th>\n",
       "      <td>38.2</td>\n",
       "      <td>3.7</td>\n",
       "      <td>13.8</td>\n",
       "      <td>7.6</td>\n",
       "    </tr>\n",
       "    <tr>\n",
       "      <th>196</th>\n",
       "      <td>94.2</td>\n",
       "      <td>4.9</td>\n",
       "      <td>8.1</td>\n",
       "      <td>14.0</td>\n",
       "    </tr>\n",
       "    <tr>\n",
       "      <th>197</th>\n",
       "      <td>177.0</td>\n",
       "      <td>9.3</td>\n",
       "      <td>6.4</td>\n",
       "      <td>14.8</td>\n",
       "    </tr>\n",
       "    <tr>\n",
       "      <th>198</th>\n",
       "      <td>283.6</td>\n",
       "      <td>42.0</td>\n",
       "      <td>66.2</td>\n",
       "      <td>25.5</td>\n",
       "    </tr>\n",
       "    <tr>\n",
       "      <th>199</th>\n",
       "      <td>232.1</td>\n",
       "      <td>8.6</td>\n",
       "      <td>8.7</td>\n",
       "      <td>18.4</td>\n",
       "    </tr>\n",
       "  </tbody>\n",
       "</table>\n",
       "<p>200 rows × 4 columns</p>\n",
       "</div>"
      ],
      "text/plain": [
       "        TV  Radio  Newspaper  Sales\n",
       "0    230.1   37.8       69.2   22.1\n",
       "1     44.5   39.3       45.1   10.4\n",
       "2     17.2   45.9       69.3   12.0\n",
       "3    151.5   41.3       58.5   16.5\n",
       "4    180.8   10.8       58.4   17.9\n",
       "..     ...    ...        ...    ...\n",
       "195   38.2    3.7       13.8    7.6\n",
       "196   94.2    4.9        8.1   14.0\n",
       "197  177.0    9.3        6.4   14.8\n",
       "198  283.6   42.0       66.2   25.5\n",
       "199  232.1    8.6        8.7   18.4\n",
       "\n",
       "[200 rows x 4 columns]"
      ]
     },
     "execution_count": 23,
     "metadata": {},
     "output_type": "execute_result"
    }
   ],
   "source": [
    "path = \"C:\\\\Users\\\\hp\\\\Documents\\\\ML\\\\Company_data.csv\"\n",
    "dataset = pd.read_csv(path)\n",
    "dataset"
   ]
  },
  {
   "cell_type": "code",
   "execution_count": 24,
   "id": "1f0d4c8e",
   "metadata": {},
   "outputs": [
    {
     "data": {
      "text/html": [
       "<div>\n",
       "<style scoped>\n",
       "    .dataframe tbody tr th:only-of-type {\n",
       "        vertical-align: middle;\n",
       "    }\n",
       "\n",
       "    .dataframe tbody tr th {\n",
       "        vertical-align: top;\n",
       "    }\n",
       "\n",
       "    .dataframe thead th {\n",
       "        text-align: right;\n",
       "    }\n",
       "</style>\n",
       "<table border=\"1\" class=\"dataframe\">\n",
       "  <thead>\n",
       "    <tr style=\"text-align: right;\">\n",
       "      <th></th>\n",
       "      <th>TV</th>\n",
       "      <th>Radio</th>\n",
       "      <th>Newspaper</th>\n",
       "      <th>Sales</th>\n",
       "    </tr>\n",
       "  </thead>\n",
       "  <tbody>\n",
       "    <tr>\n",
       "      <th>0</th>\n",
       "      <td>230.1</td>\n",
       "      <td>37.8</td>\n",
       "      <td>69.2</td>\n",
       "      <td>22.1</td>\n",
       "    </tr>\n",
       "    <tr>\n",
       "      <th>1</th>\n",
       "      <td>44.5</td>\n",
       "      <td>39.3</td>\n",
       "      <td>45.1</td>\n",
       "      <td>10.4</td>\n",
       "    </tr>\n",
       "    <tr>\n",
       "      <th>2</th>\n",
       "      <td>17.2</td>\n",
       "      <td>45.9</td>\n",
       "      <td>69.3</td>\n",
       "      <td>12.0</td>\n",
       "    </tr>\n",
       "    <tr>\n",
       "      <th>3</th>\n",
       "      <td>151.5</td>\n",
       "      <td>41.3</td>\n",
       "      <td>58.5</td>\n",
       "      <td>16.5</td>\n",
       "    </tr>\n",
       "    <tr>\n",
       "      <th>4</th>\n",
       "      <td>180.8</td>\n",
       "      <td>10.8</td>\n",
       "      <td>58.4</td>\n",
       "      <td>17.9</td>\n",
       "    </tr>\n",
       "  </tbody>\n",
       "</table>\n",
       "</div>"
      ],
      "text/plain": [
       "      TV  Radio  Newspaper  Sales\n",
       "0  230.1   37.8       69.2   22.1\n",
       "1   44.5   39.3       45.1   10.4\n",
       "2   17.2   45.9       69.3   12.0\n",
       "3  151.5   41.3       58.5   16.5\n",
       "4  180.8   10.8       58.4   17.9"
      ]
     },
     "execution_count": 24,
     "metadata": {},
     "output_type": "execute_result"
    }
   ],
   "source": [
    "dataset.head()"
   ]
  },
  {
   "cell_type": "code",
   "execution_count": 25,
   "id": "2e5c4130",
   "metadata": {},
   "outputs": [
    {
     "data": {
      "text/plain": [
       "(200, 4)"
      ]
     },
     "execution_count": 25,
     "metadata": {},
     "output_type": "execute_result"
    }
   ],
   "source": [
    "dataset.shape"
   ]
  },
  {
   "cell_type": "code",
   "execution_count": 26,
   "id": "180ef812",
   "metadata": {
    "scrolled": false
   },
   "outputs": [
    {
     "data": {
      "image/png": "[encoded data removed]",
      "text/plain": [
       "<Figure size 432x288 with 1 Axes>"
      ]
     },
     "metadata": {
      "needs_background": "light"
     },
     "output_type": "display_data"
    },
    {
     "data": {
      "image/png": "[encoded data removed]",
      "text/plain": [
       "<Figure size 432x288 with 1 Axes>"
      ]
     },
     "metadata": {
      "needs_background": "light"
     },
     "output_type": "display_data"
    },
    {
     "data": {
      "image/png": "[encoded data removed]",
      "text/plain": [
       "<Figure size 432x288 with 1 Axes>"
      ]
     },
     "metadata": {
      "needs_background": "light"
     },
     "output_type": "display_data"
    }
   ],
   "source": [
    "dataset.plot.scatter(x='TV', y='Sales', title='Scatterplot of TV and Sales percentages');\n",
    "dataset.plot.scatter(x='Radio', y='Sales', title='Scatterplot of Radio and Sales percentages');\n",
    "dataset.plot.scatter(x='Newspaper', y='Sales', title='Scatterplot of Newspaper and Sales percentages');"
   ]
  },
  {
   "cell_type": "code",
   "execution_count": 27,
   "id": "b28e48f5",
   "metadata": {
    "scrolled": false
   },
   "outputs": [
    {
     "data": {
      "text/html": [
       "<div>\n",
       "<style scoped>\n",
       "    .dataframe tbody tr th:only-of-type {\n",
       "        vertical-align: middle;\n",
       "    }\n",
       "\n",
       "    .dataframe tbody tr th {\n",
       "        vertical-align: top;\n",
       "    }\n",
       "\n",
       "    .dataframe thead th {\n",
       "        text-align: right;\n",
       "    }\n",
       "</style>\n",
       "<table border=\"1\" class=\"dataframe\">\n",
       "  <thead>\n",
       "    <tr style=\"text-align: right;\">\n",
       "      <th></th>\n",
       "      <th>TV</th>\n",
       "      <th>Radio</th>\n",
       "      <th>Newspaper</th>\n",
       "      <th>Sales</th>\n",
       "    </tr>\n",
       "  </thead>\n",
       "  <tbody>\n",
       "    <tr>\n",
       "      <th>TV</th>\n",
       "      <td>1.000000</td>\n",
       "      <td>0.054809</td>\n",
       "      <td>0.056648</td>\n",
       "      <td>0.901208</td>\n",
       "    </tr>\n",
       "    <tr>\n",
       "      <th>Radio</th>\n",
       "      <td>0.054809</td>\n",
       "      <td>1.000000</td>\n",
       "      <td>0.354104</td>\n",
       "      <td>0.349631</td>\n",
       "    </tr>\n",
       "    <tr>\n",
       "      <th>Newspaper</th>\n",
       "      <td>0.056648</td>\n",
       "      <td>0.354104</td>\n",
       "      <td>1.000000</td>\n",
       "      <td>0.157960</td>\n",
       "    </tr>\n",
       "    <tr>\n",
       "      <th>Sales</th>\n",
       "      <td>0.901208</td>\n",
       "      <td>0.349631</td>\n",
       "      <td>0.157960</td>\n",
       "      <td>1.000000</td>\n",
       "    </tr>\n",
       "  </tbody>\n",
       "</table>\n",
       "</div>"
      ],
      "text/plain": [
       "                 TV     Radio  Newspaper     Sales\n",
       "TV         1.000000  0.054809   0.056648  0.901208\n",
       "Radio      0.054809  1.000000   0.354104  0.349631\n",
       "Newspaper  0.056648  0.354104   1.000000  0.157960\n",
       "Sales      0.901208  0.349631   0.157960  1.000000"
      ]
     },
     "execution_count": 27,
     "metadata": {},
     "output_type": "execute_result"
    }
   ],
   "source": [
    "dataset.corr()"
   ]
  },
  {
   "cell_type": "code",
   "execution_count": 28,
   "id": "c19795bc",
   "metadata": {},
   "outputs": [
    {
     "data": {
      "text/html": [
       "<div>\n",
       "<style scoped>\n",
       "    .dataframe tbody tr th:only-of-type {\n",
       "        vertical-align: middle;\n",
       "    }\n",
       "\n",
       "    .dataframe tbody tr th {\n",
       "        vertical-align: top;\n",
       "    }\n",
       "\n",
       "    .dataframe thead th {\n",
       "        text-align: right;\n",
       "    }\n",
       "</style>\n",
       "<table border=\"1\" class=\"dataframe\">\n",
       "  <thead>\n",
       "    <tr style=\"text-align: right;\">\n",
       "      <th></th>\n",
       "      <th>count</th>\n",
       "      <th>mean</th>\n",
       "      <th>std</th>\n",
       "      <th>min</th>\n",
       "      <th>25%</th>\n",
       "      <th>50%</th>\n",
       "      <th>75%</th>\n",
       "      <th>max</th>\n",
       "    </tr>\n",
       "  </thead>\n",
       "  <tbody>\n",
       "    <tr>\n",
       "      <th>TV</th>\n",
       "      <td>200.0</td>\n",
       "      <td>147.04</td>\n",
       "      <td>85.85</td>\n",
       "      <td>0.7</td>\n",
       "      <td>74.38</td>\n",
       "      <td>149.75</td>\n",
       "      <td>218.82</td>\n",
       "      <td>296.4</td>\n",
       "    </tr>\n",
       "    <tr>\n",
       "      <th>Radio</th>\n",
       "      <td>200.0</td>\n",
       "      <td>23.26</td>\n",
       "      <td>14.85</td>\n",
       "      <td>0.0</td>\n",
       "      <td>9.98</td>\n",
       "      <td>22.90</td>\n",
       "      <td>36.52</td>\n",
       "      <td>49.6</td>\n",
       "    </tr>\n",
       "    <tr>\n",
       "      <th>Newspaper</th>\n",
       "      <td>200.0</td>\n",
       "      <td>30.55</td>\n",
       "      <td>21.78</td>\n",
       "      <td>0.3</td>\n",
       "      <td>12.75</td>\n",
       "      <td>25.75</td>\n",
       "      <td>45.10</td>\n",
       "      <td>114.0</td>\n",
       "    </tr>\n",
       "    <tr>\n",
       "      <th>Sales</th>\n",
       "      <td>200.0</td>\n",
       "      <td>15.13</td>\n",
       "      <td>5.28</td>\n",
       "      <td>1.6</td>\n",
       "      <td>11.00</td>\n",
       "      <td>16.00</td>\n",
       "      <td>19.05</td>\n",
       "      <td>27.0</td>\n",
       "    </tr>\n",
       "  </tbody>\n",
       "</table>\n",
       "</div>"
      ],
      "text/plain": [
       "           count    mean    std  min    25%     50%     75%    max\n",
       "TV         200.0  147.04  85.85  0.7  74.38  149.75  218.82  296.4\n",
       "Radio      200.0   23.26  14.85  0.0   9.98   22.90   36.52   49.6\n",
       "Newspaper  200.0   30.55  21.78  0.3  12.75   25.75   45.10  114.0\n",
       "Sales      200.0   15.13   5.28  1.6  11.00   16.00   19.05   27.0"
      ]
     },
     "execution_count": 28,
     "metadata": {},
     "output_type": "execute_result"
    }
   ],
   "source": [
    "dataset.describe().round(2).T"
   ]
  },
  {
   "cell_type": "code",
   "execution_count": 29,
   "id": "88226329",
   "metadata": {
    "scrolled": true
   },
   "outputs": [
    {
     "data": {
      "image/png": "[encoded data removed]",
      "text/plain": [
       "<Figure size 432x288 with 1 Axes>"
      ]
     },
     "metadata": {
      "needs_background": "light"
     },
     "output_type": "display_data"
    },
    {
     "data": {
      "image/png": "[encoded data removed]",
      "text/plain": [
       "<Figure size 432x288 with 1 Axes>"
      ]
     },
     "metadata": {
      "needs_background": "light"
     },
     "output_type": "display_data"
    },
    {
     "data": {
      "image/png": "[encoded data removed]",
      "text/plain": [
       "<Figure size 432x288 with 1 Axes>"
      ]
     },
     "metadata": {
      "needs_background": "light"
     },
     "output_type": "display_data"
    }
   ],
   "source": [
    "variables = ['TV', 'Radio', 'Newspaper']\n",
    "\n",
    "for var in variables:\n",
    "    plt.figure() # Creating a rectangle (figure) for each plot\n",
    "    # Regression Plot also by default includes\n",
    "    # best-fitting regression line\n",
    "    # which can be turned off via `fit_reg=False`\n",
    "    sns.regplot(x=var, y='Sales', data=dataset).set(title=f'Regression plot of {var} and Sales');"
   ]
  },
  {
   "cell_type": "code",
   "execution_count": 30,
   "id": "8f46d82e",
   "metadata": {
    "scrolled": true
   },
   "outputs": [
    {
     "name": "stdout",
     "output_type": "stream",
     "text": [
      "linear Regression Equation\n",
      "y = mx + c\n"
     ]
    }
   ],
   "source": [
    "print(\"linear Regression Equation\")\n",
    "print(\"y = mx + c\")"
   ]
  },
  {
   "cell_type": "code",
   "execution_count": null,
   "id": "3cc871f5",
   "metadata": {},
   "outputs": [],
   "source": []
  }
 ],
 "metadata": {
  "kernelspec": {
   "display_name": "Python 3 (ipykernel)",
   "language": "python",
   "name": "python3"
  },
  "language_info": {
   "codemirror_mode": {
    "name": "ipython",
    "version": 3
   },
   "file_extension": ".py",
   "mimetype": "text/x-python",
   "name": "python",
   "nbconvert_exporter": "python",
   "pygments_lexer": "ipython3",
   "version": "3.9.7"
  }
 },
 "nbformat": 4,
 "nbformat_minor": 5
}
